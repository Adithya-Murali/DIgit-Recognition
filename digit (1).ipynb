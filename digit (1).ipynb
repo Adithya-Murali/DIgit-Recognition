{
 "cells": [
  {
   "cell_type": "code",
   "execution_count": 43,
   "metadata": {
    "colab": {},
    "colab_type": "code",
    "id": "YNbduy3zWx6g"
   },
   "outputs": [],
   "source": [
    "from keras.datasets import mnist\n",
    "from keras.models import Sequential\n",
    "from keras.layers import Dense, Dropout,Flatten\n",
    "from keras.layers.convolutional import Conv2D\n",
    "from keras.layers.convolutional import MaxPooling2D\n",
    "from keras.utils import np_utils"
   ]
  },
  {
   "cell_type": "code",
   "execution_count": 44,
   "metadata": {
    "colab": {
     "base_uri": "https://localhost:8080/",
     "height": 408
    },
    "colab_type": "code",
    "id": "qE_wBwPC3ogW",
    "outputId": "fe8496aa-adb2-4b8d-c34e-cfce06f57d2d"
   },
   "outputs": [],
   "source": [
    "import pandas as pd\n",
    "train=pd.read_csv('train.csv')\n",
    "test=pd.read_csv('test.csv')"
   ]
  },
  {
   "cell_type": "code",
   "execution_count": 45,
   "metadata": {},
   "outputs": [
    {
     "name": "stdout",
     "output_type": "stream",
     "text": [
      "(42000, 785)\n",
      "(28000, 784)\n"
     ]
    }
   ],
   "source": [
    "print(train.shape)\n",
    "print(test.shape)"
   ]
  },
  {
   "cell_type": "code",
   "execution_count": 46,
   "metadata": {},
   "outputs": [],
   "source": [
    "X=train.iloc[:,1:]\n",
    "y=train.iloc[:,0]"
   ]
  },
  {
   "cell_type": "code",
   "execution_count": 47,
   "metadata": {
    "colab": {},
    "colab_type": "code",
    "id": "Ax64g7qPW7_z"
   },
   "outputs": [],
   "source": [
    "from sklearn.model_selection import train_test_split\n",
    "(X_train,X_test,y_train,y_test)=train_test_split(X,y)"
   ]
  },
  {
   "cell_type": "code",
   "execution_count": 60,
   "metadata": {
    "scrolled": true
   },
   "outputs": [],
   "source": [
    "X_train = X_train.reshape(31500, 28,28,1)\n",
    "X_test = X_test.reshape(10500, 28,28,1)\n",
    "\n",
    "test = test.reshape(28000, 28,28,1)"
   ]
  },
  {
   "cell_type": "code",
   "execution_count": 61,
   "metadata": {
    "colab": {
     "base_uri": "https://localhost:8080/",
     "height": 34
    },
    "colab_type": "code",
    "id": "ZtqMsvp5Yz2Z",
    "outputId": "4411eb09-8b5e-4fdc-905b-6db025348187"
   },
   "outputs": [
    {
     "name": "stdout",
     "output_type": "stream",
     "text": [
      "(31500, 28, 28, 1)\n"
     ]
    }
   ],
   "source": [
    "X_train=X_train.astype('float32')\n",
    "X_test=X_test.astype('float32')\n",
    "print(X_train.shape)"
   ]
  },
  {
   "cell_type": "code",
   "execution_count": 62,
   "metadata": {
    "colab": {},
    "colab_type": "code",
    "id": "swHu5jTuZsrK"
   },
   "outputs": [],
   "source": [
    "X_train/=255\n",
    "X_test/=255"
   ]
  },
  {
   "cell_type": "code",
   "execution_count": 63,
   "metadata": {
    "colab": {
     "base_uri": "https://localhost:8080/",
     "height": 34
    },
    "colab_type": "code",
    "id": "pRd-jIh0aSaO",
    "outputId": "33d8bbc9-5b99-4219-d661-bc12e6fc377c"
   },
   "outputs": [
    {
     "name": "stdout",
     "output_type": "stream",
     "text": [
      "(10500, 10)\n"
     ]
    }
   ],
   "source": [
    "y_train=np_utils.to_categorical(y_train,10)\n",
    "y_test=np_utils.to_categorical(y_test,10)\n",
    "print(y_test.shape)"
   ]
  },
  {
   "cell_type": "code",
   "execution_count": 71,
   "metadata": {
    "colab": {},
    "colab_type": "code",
    "id": "lB_Zc40fa4F-"
   },
   "outputs": [],
   "source": [
    "model=Sequential()\n",
    "model.add(Conv2D(32,(5,5), input_shape=(28,28,1),activation='relu'))\n",
    "model.add(MaxPooling2D())\n",
    "model.add(Dropout(0.2))\n",
    "model.add(Conv2D(32,(5,5), input_shape=(12,12,1),activation='relu'))\n",
    "model.add(MaxPooling2D())\n",
    "model.add(Dropout(0.2))\n",
    "model.add(Flatten())\n",
    "model.add(Dense(128, activation='relu'))\n",
    "model.add(Dense(10, activation='softmax'))"
   ]
  },
  {
   "cell_type": "code",
   "execution_count": 72,
   "metadata": {},
   "outputs": [
    {
     "name": "stdout",
     "output_type": "stream",
     "text": [
      "Model: \"sequential_3\"\n",
      "_________________________________________________________________\n",
      "Layer (type)                 Output Shape              Param #   \n",
      "=================================================================\n",
      "conv2d_3 (Conv2D)            (None, 24, 24, 32)        832       \n",
      "_________________________________________________________________\n",
      "max_pooling2d_3 (MaxPooling2 (None, 12, 12, 32)        0         \n",
      "_________________________________________________________________\n",
      "dropout_3 (Dropout)          (None, 12, 12, 32)        0         \n",
      "_________________________________________________________________\n",
      "conv2d_4 (Conv2D)            (None, 8, 8, 32)          25632     \n",
      "_________________________________________________________________\n",
      "max_pooling2d_4 (MaxPooling2 (None, 4, 4, 32)          0         \n",
      "_________________________________________________________________\n",
      "dropout_4 (Dropout)          (None, 4, 4, 32)          0         \n",
      "_________________________________________________________________\n",
      "flatten_3 (Flatten)          (None, 512)               0         \n",
      "_________________________________________________________________\n",
      "dense_5 (Dense)              (None, 128)               65664     \n",
      "_________________________________________________________________\n",
      "dense_6 (Dense)              (None, 10)                1290      \n",
      "=================================================================\n",
      "Total params: 93,418\n",
      "Trainable params: 93,418\n",
      "Non-trainable params: 0\n",
      "_________________________________________________________________\n"
     ]
    }
   ],
   "source": [
    "model.summary()"
   ]
  },
  {
   "cell_type": "code",
   "execution_count": 73,
   "metadata": {
    "colab": {
     "base_uri": "https://localhost:8080/",
     "height": 408
    },
    "colab_type": "code",
    "id": "FyHlS1-lzgHf",
    "outputId": "1b935109-8e82-4317-8274-173f3cf35fee"
   },
   "outputs": [
    {
     "name": "stdout",
     "output_type": "stream",
     "text": [
      "Train on 31500 samples, validate on 10500 samples\n",
      "Epoch 1/10\n",
      "31500/31500 [==============================] - 28s 901us/step - loss: 0.3406 - accuracy: 0.8973 - val_loss: 0.0920 - val_accuracy: 0.9730\n",
      "Epoch 2/10\n",
      "31500/31500 [==============================] - 29s 915us/step - loss: 0.0960 - accuracy: 0.9688 - val_loss: 0.0634 - val_accuracy: 0.9807\n",
      "Epoch 3/10\n",
      "31500/31500 [==============================] - 28s 904us/step - loss: 0.0680 - accuracy: 0.9787 - val_loss: 0.0512 - val_accuracy: 0.9836\n",
      "Epoch 4/10\n",
      "31500/31500 [==============================] - 28s 894us/step - loss: 0.0544 - accuracy: 0.9823 - val_loss: 0.0499 - val_accuracy: 0.9839\n",
      "Epoch 5/10\n",
      "31500/31500 [==============================] - 28s 895us/step - loss: 0.0465 - accuracy: 0.9855 - val_loss: 0.0411 - val_accuracy: 0.9884\n",
      "Epoch 6/10\n",
      "31500/31500 [==============================] - 28s 899us/step - loss: 0.0391 - accuracy: 0.9874 - val_loss: 0.0409 - val_accuracy: 0.9881\n",
      "Epoch 7/10\n",
      "31500/31500 [==============================] - 29s 917us/step - loss: 0.0340 - accuracy: 0.9888 - val_loss: 0.0378 - val_accuracy: 0.9890\n",
      "Epoch 8/10\n",
      "31500/31500 [==============================] - 29s 934us/step - loss: 0.0324 - accuracy: 0.9893 - val_loss: 0.0384 - val_accuracy: 0.9893\n",
      "Epoch 9/10\n",
      "31500/31500 [==============================] - 28s 902us/step - loss: 0.0296 - accuracy: 0.9899 - val_loss: 0.0391 - val_accuracy: 0.9883\n",
      "Epoch 10/10\n",
      "31500/31500 [==============================] - 29s 906us/step - loss: 0.0249 - accuracy: 0.9909 - val_loss: 0.0359 - val_accuracy: 0.9903\n",
      "10500/10500 [==============================] - 2s 217us/step\n",
      "0.9902856945991516\n"
     ]
    }
   ],
   "source": [
    "model.compile(loss='categorical_crossentropy', optimizer='adam', metrics=['accuracy'])\n",
    "model.fit(X_train,y_train,validation_data=(X_test,y_test),epochs=10, batch_size=100)\n",
    "scores=model.evaluate(X_test,y_test)\n",
    "print(scores[1])"
   ]
  }
 ],
 "metadata": {
  "colab": {
   "name": "digit.ipynb",
   "provenance": []
  },
  "kernelspec": {
   "display_name": "Python 3",
   "language": "python",
   "name": "python3"
  },
  "language_info": {
   "codemirror_mode": {
    "name": "ipython",
    "version": 3
   },
   "file_extension": ".py",
   "mimetype": "text/x-python",
   "name": "python",
   "nbconvert_exporter": "python",
   "pygments_lexer": "ipython3",
   "version": "3.7.5"
  }
 },
 "nbformat": 4,
 "nbformat_minor": 1
}
